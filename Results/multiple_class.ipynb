{
 "cells": [
  {
   "cell_type": "code",
   "execution_count": 2,
   "id": "9cb2d3c6",
   "metadata": {},
   "outputs": [],
   "source": [
    "import numpy as np\n",
    "import pickle\n",
    "import json\n",
    "import os"
   ]
  },
  {
   "cell_type": "code",
   "execution_count": 3,
   "id": "d6b2d00b",
   "metadata": {},
   "outputs": [],
   "source": [
    "def convert_labels(activity_start, activity_end, segment_length, overlap_length, sr):\n",
    "    segment_samples = segment_length * sr\n",
    "    overlap_samples = overlap_length * sr\n",
    "    step_samples = segment_samples - overlap_samples\n",
    "    activity_start_samples = activity_start*sr\n",
    "    activity_end_samples = activity_end*sr\n",
    "\n",
    "    activity_start_segment = (activity_start_samples-overlap_samples)//step_samples\n",
    "    activity_end_segment = (activity_end_samples-overlap_samples)//step_samples\n",
    "\n",
    "    return activity_start_segment, activity_end_segment"
   ]
  },
  {
   "cell_type": "code",
   "execution_count": 4,
   "id": "dbc3bc18",
   "metadata": {},
   "outputs": [],
   "source": [
    "def find_meta_data(id):\n",
    "    wav_files = []\n",
    "    metadata_files = []\n",
    "    recording_ids = []\n",
    "\n",
    "    root_folder_path =\"C:\\\\Users\\\\MajaE\\\\src\\\\repos\\\\master_ML\\\\Data\"\n",
    "    # Loop through each academic year in data folder\n",
    "    root_folder_path_os = os.path.abspath(root_folder_path)\n",
    "    for year_folder in os.listdir(root_folder_path_os):\n",
    "        year_folder_path = os.path.join(root_folder_path_os,year_folder)\n",
    "        # Ensure directory (folder)\n",
    "        if os.path.isdir(year_folder_path): \n",
    "            # Loop through each subject in year\n",
    "            for subject_folder in os.listdir(year_folder_path):\n",
    "                subject_folder_path = os.path.join(year_folder_path,subject_folder)\n",
    "                # Ensure directory (folder)\n",
    "                if os.path.isdir(subject_folder_path): \n",
    "                    # Loop through each recording for subject\n",
    "                    for recording_folder in os.listdir(subject_folder_path):\n",
    "                        recording_folder_path = os.path.join(subject_folder_path,recording_folder)\n",
    "                        if recording_folder == id:\n",
    "                            if os.path.isdir(recording_folder_path):\n",
    "                                metadata_file_path = os.path.join(recording_folder_path, f\"{recording_folder}.json\")\n",
    "                                return metadata_file_path\n",
    "    return None"
   ]
  },
  {
   "cell_type": "code",
   "execution_count": 5,
   "id": "8b5b39b4",
   "metadata": {},
   "outputs": [],
   "source": [
    "def find_disturbances(id):\n",
    "    id_file = find_meta_data(id)\n",
    "\n",
    "    # Extract labels from metadata files\n",
    "    meta_data = \"\"\n",
    "    audio_offset = 0\n",
    "    with open(id_file, 'r') as file:\n",
    "        meta_data = json.load(file)\n",
    "    if \"audio_offset\" in meta_data:\n",
    "        audio_offset = meta_data[\"audio_offset\"]\n",
    "    \n",
    "    disturbances = []\n",
    "    if \"disturbances\" in meta_data:\n",
    "        for disturbance in meta_data[\"disturbances\"]:\n",
    "            disturbances.append((disturbance[\"start\"]-audio_offset,disturbance[\"end\"]-audio_offset,disturbance[\"type\"]))\n",
    "    return disturbances"
   ]
  },
  {
   "cell_type": "code",
   "execution_count": 6,
   "id": "97148ab0",
   "metadata": {},
   "outputs": [
    {
     "name": "stdout",
     "output_type": "stream",
     "text": [
      "[array([0, 0, 0, ..., 0, 0, 0]), array([0, 0, 0, ..., 0, 0, 0]), array([0, 0, 0, ..., 0, 0, 0]), array([0, 0, 0, ..., 0, 0, 0]), array([0, 0, 0, ..., 0, 0, 0]), array([0, 0, 0, ..., 0, 0, 0]), array([0, 0, 0, ..., 0, 0, 0]), array([0, 0, 0, ..., 0, 0, 0]), array([0, 0, 0, ..., 0, 0, 0]), array([0, 0, 0, ..., 0, 0, 0]), array([0, 0, 0, ..., 0, 0, 0]), array([0, 0, 0, ..., 0, 0, 0]), array([0, 0, 0, ..., 0, 0, 0]), array([0, 0, 0, ..., 0, 0, 0]), array([0, 0, 0, ..., 0, 0, 0]), array([0, 0, 0, ..., 0, 0, 0]), array([0, 0, 0, ..., 0, 0, 0]), array([0, 0, 0, ..., 0, 0, 0]), array([0, 0, 0, ..., 0, 0, 0]), array([0, 0, 0, ..., 0, 0, 0]), array([0, 0, 0, ..., 0, 0, 0]), array([0, 0, 0, ..., 0, 0, 0]), array([0, 0, 0, ..., 0, 0, 0]), array([0, 0, 0, ..., 0, 0, 0]), array([0, 0, 0, ..., 0, 0, 0]), array([0, 0, 0, ..., 0, 0, 0]), array([0, 0, 0, ..., 0, 0, 0]), array([0, 0, 0, ..., 0, 0, 0]), array([0, 0, 0, ..., 0, 0, 0]), array([0, 0, 0, ..., 0, 0, 0]), array([0, 0, 0, ..., 0, 0, 0]), array([0, 0, 0, ..., 0, 0, 0]), array([0, 0, 0, ..., 0, 0, 0]), array([0, 0, 0, ..., 0, 0, 0]), array([0, 0, 0, ..., 0, 0, 0]), array([0, 0, 0, ..., 0, 0, 0]), array([0, 0, 0, ..., 0, 0, 0]), array([0, 0, 0, ..., 0, 0, 0]), array([0, 0, 0, ..., 0, 0, 0]), array([0, 0, 0, ..., 0, 0, 0]), array([0, 0, 0, ..., 0, 0, 0]), array([0, 0, 0, ..., 0, 0, 0]), array([0, 0, 0, ..., 0, 0, 0]), array([0, 0, 0, ..., 0, 0, 0]), array([0, 0, 0, ..., 0, 0, 0]), array([0, 0, 0, ..., 0, 0, 0]), array([0, 0, 0, ..., 2, 2, 2])]\n"
     ]
    }
   ],
   "source": [
    "features, labels, recording_ids = [], [], []\n",
    "# Extract features from previous calculations\n",
    "with open(f'..\\\\features_pos1_1_multiclass.pickle', 'rb') as handle:\n",
    "    features,labels, recording_ids = pickle.load(handle)\n",
    "\n",
    "print(labels)\n"
   ]
  }
 ],
 "metadata": {
  "kernelspec": {
   "display_name": ".venv",
   "language": "python",
   "name": "python3"
  },
  "language_info": {
   "codemirror_mode": {
    "name": "ipython",
    "version": 3
   },
   "file_extension": ".py",
   "mimetype": "text/x-python",
   "name": "python",
   "nbconvert_exporter": "python",
   "pygments_lexer": "ipython3",
   "version": "3.12.10"
  }
 },
 "nbformat": 4,
 "nbformat_minor": 5
}
