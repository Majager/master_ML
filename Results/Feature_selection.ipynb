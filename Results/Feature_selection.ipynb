{
 "cells": [
  {
   "cell_type": "markdown",
   "metadata": {},
   "source": [
    "### Import packages"
   ]
  },
  {
   "cell_type": "code",
   "execution_count": 1,
   "metadata": {},
   "outputs": [],
   "source": [
    "import pickle\n",
    "from sklearn.metrics import accuracy_score, precision_score, recall_score, f1_score, confusion_matrix\n",
    "import matplotlib.pyplot as plt\n",
    "import seaborn as sns\n",
    "import numpy as np\n",
    "import glob \n",
    "import os\n",
    "import json\n",
    "from matplotlib.colors import LogNorm"
   ]
  },
  {
   "cell_type": "code",
   "execution_count": 2,
   "metadata": {},
   "outputs": [],
   "source": [
    "#root_folder_path = \"N:\\\\durable\\\\sound-and-ecg\\\\2024-10-Maja-restructured\\\\Data\"\n",
    "root_folder_path = \"C:\\\\Users\\\\MajaE\\\\src\\\\repos\\\\master_ML\\\\Data\""
   ]
  },
  {
   "cell_type": "markdown",
   "metadata": {},
   "source": [
    "### Extract data"
   ]
  },
  {
   "cell_type": "code",
   "execution_count": 3,
   "metadata": {},
   "outputs": [],
   "source": [
    "def extract_test_parameters(test_file):\n",
    "    true,predictions,predictions_proba,test_recording_ids,segment_parameters =[],[],[],[],[]\n",
    "    with open(test_file, 'rb') as handle:\n",
    "        true,predictions,predictions_proba,test_recording_ids, segment_parameters = pickle.load(handle) \n",
    "    return true,predictions,predictions_proba,test_recording_ids,segment_parameters"
   ]
  },
  {
   "cell_type": "markdown",
   "metadata": {},
   "source": [
    "### Analyze metrics"
   ]
  },
  {
   "cell_type": "code",
   "execution_count": 4,
   "metadata": {},
   "outputs": [],
   "source": [
    "def calculate_metrics(true,predictions):\n",
    "    accuracy = accuracy_score(true, predictions) # ((TN + TP) / (TN + FN + TP + FP))\n",
    "    precision = precision_score(true, predictions,zero_division=np.nan) # Positive predictive rate -> TP/(TP+FP)\n",
    "    recall = recall_score(true, predictions,zero_division=np.nan) # Sensitivity -> TP/(TP+FN)\n",
    "    f1 = f1_score(true,predictions,zero_division=np.nan)\n",
    "    specificity = 0\n",
    "    return accuracy,recall,specificity,precision,f1"
   ]
  },
  {
   "cell_type": "markdown",
   "metadata": {},
   "source": [
    "### Plot ROC curve"
   ]
  },
  {
   "cell_type": "code",
   "execution_count": 5,
   "metadata": {},
   "outputs": [],
   "source": [
    "def find_avg_performance(folder_path):\n",
    "    test_files = glob.glob(os.path.join(folder_path,'*.pickle'))\n",
    "    true, predictions, predictions_proba, ids, segment_parameters = [], [], [], [], []\n",
    "    for test_file in test_files:\n",
    "        true_subject, predictions_subject,predictions_proba_subject,test_recording_ids,segment_parameters_subject = extract_test_parameters(test_file)\n",
    "        true.extend(true_subject)\n",
    "        predictions.extend(predictions_subject)\n",
    "        predictions_proba.extend(predictions_proba_subject)\n",
    "        ids.extend(test_recording_ids)\n",
    "        segment_parameters.extend([segment_parameters_subject])\n",
    "    accuracy_vector, specificity_vector, recall_vector, precision_vector, f1_vector = [], [], [], [], []\n",
    "    for subject_idx in range(len(true)):\n",
    "        accuracy,specificity,recall,precision,f1 = calculate_metrics(true[subject_idx],predictions[subject_idx])\n",
    "        accuracy_vector.append(accuracy)\n",
    "        specificity_vector.append(specificity)\n",
    "        recall_vector.append(recall)\n",
    "        precision_vector.append(precision)\n",
    "        f1_vector.append(f1)\n",
    "    accuracy = np.mean(accuracy_vector)\n",
    "    specificity = np.mean(specificity_vector)\n",
    "    recall = np.mean(recall_vector)\n",
    "    precision = np.mean(precision_vector)\n",
    "    f1 = np.mean(f1_vector)\n",
    "    return accuracy, f1"
   ]
  },
  {
   "cell_type": "code",
   "execution_count": 6,
   "metadata": {},
   "outputs": [],
   "source": [
    "def feature_selection_performance(root_folder_path):\n",
    "    accuracy = []\n",
    "    f1 = []\n",
    "    data_folder_path = os.path.join(root_folder_path,\"data\")\n",
    "    for iteration in os.listdir(data_folder_path):\n",
    "        iteration_path = os.path.join(data_folder_path,iteration)\n",
    "        i_accuracy, i_f1 = find_avg_performance(iteration_path)\n",
    "        accuracy.append(i_accuracy)\n",
    "        f1.append(i_f1)\n",
    "    parameters_path = f\"{root_folder_path}\\\\parameters.json\"\n",
    "    test_values = []\n",
    "    with open(parameters_path, 'r') as file:\n",
    "        meta_data = json.load(file)\n",
    "        test_values = meta_data[\"test_values\"]\n",
    "    return accuracy, test_values\n"
   ]
  },
  {
   "cell_type": "code",
   "execution_count": 7,
   "metadata": {},
   "outputs": [],
   "source": [
    "def feature_selection_curve(selection_algorithms):\n",
    "    plt.figure()\n",
    "    for selection_algorithm in selection_algorithms:\n",
    "        performance, n_features = feature_selection_performance(selection_algorithm)\n",
    "        plt.plot(n_features,performance,label=selection_algorithm)\n",
    "    plt.xlabel('Number of selected features')\n",
    "    plt.ylabel('Performance')\n",
    "    plt.title('Performance of LDA')\n",
    "    plt.legend()\n",
    "    plt.grid(True)\n",
    "    plt.show()"
   ]
  },
  {
   "cell_type": "code",
   "execution_count": 10,
   "metadata": {},
   "outputs": [
    {
     "ename": "ValueError",
     "evalue": "Found input variables with inconsistent numbers of samples: [3359, 3289]",
     "output_type": "error",
     "traceback": [
      "\u001b[1;31m---------------------------------------------------------------------------\u001b[0m",
      "\u001b[1;31mValueError\u001b[0m                                Traceback (most recent call last)",
      "Cell \u001b[1;32mIn[10], line 4\u001b[0m\n\u001b[0;32m      2\u001b[0m \u001b[38;5;66;03m#selection_algorithms = [\"mutual_information_LDA\",\"RFE_LDA\",\"sfs_LDA\"]\u001b[39;00m\n\u001b[0;32m      3\u001b[0m selection_algorithms \u001b[38;5;241m=\u001b[39m [\u001b[38;5;124m\"\u001b[39m\u001b[38;5;124mmutual_information_HMM\u001b[39m\u001b[38;5;124m\"\u001b[39m]\n\u001b[1;32m----> 4\u001b[0m \u001b[43mfeature_selection_curve\u001b[49m\u001b[43m(\u001b[49m\u001b[43mselection_algorithms\u001b[49m\u001b[43m)\u001b[49m\n",
      "Cell \u001b[1;32mIn[7], line 4\u001b[0m, in \u001b[0;36mfeature_selection_curve\u001b[1;34m(selection_algorithms)\u001b[0m\n\u001b[0;32m      2\u001b[0m plt\u001b[38;5;241m.\u001b[39mfigure()\n\u001b[0;32m      3\u001b[0m \u001b[38;5;28;01mfor\u001b[39;00m selection_algorithm \u001b[38;5;129;01min\u001b[39;00m selection_algorithms:\n\u001b[1;32m----> 4\u001b[0m     performance, n_features \u001b[38;5;241m=\u001b[39m \u001b[43mfeature_selection_performance\u001b[49m\u001b[43m(\u001b[49m\u001b[43mselection_algorithm\u001b[49m\u001b[43m)\u001b[49m\n\u001b[0;32m      5\u001b[0m     plt\u001b[38;5;241m.\u001b[39mplot(n_features,performance,label\u001b[38;5;241m=\u001b[39mselection_algorithm)\n\u001b[0;32m      6\u001b[0m plt\u001b[38;5;241m.\u001b[39mxlabel(\u001b[38;5;124m'\u001b[39m\u001b[38;5;124mNumber of selected features\u001b[39m\u001b[38;5;124m'\u001b[39m)\n",
      "Cell \u001b[1;32mIn[6], line 7\u001b[0m, in \u001b[0;36mfeature_selection_performance\u001b[1;34m(root_folder_path)\u001b[0m\n\u001b[0;32m      5\u001b[0m \u001b[38;5;28;01mfor\u001b[39;00m iteration \u001b[38;5;129;01min\u001b[39;00m os\u001b[38;5;241m.\u001b[39mlistdir(data_folder_path):\n\u001b[0;32m      6\u001b[0m     iteration_path \u001b[38;5;241m=\u001b[39m os\u001b[38;5;241m.\u001b[39mpath\u001b[38;5;241m.\u001b[39mjoin(data_folder_path,iteration)\n\u001b[1;32m----> 7\u001b[0m     i_accuracy, i_f1 \u001b[38;5;241m=\u001b[39m \u001b[43mfind_avg_performance\u001b[49m\u001b[43m(\u001b[49m\u001b[43miteration_path\u001b[49m\u001b[43m)\u001b[49m\n\u001b[0;32m      8\u001b[0m     accuracy\u001b[38;5;241m.\u001b[39mappend(i_accuracy)\n\u001b[0;32m      9\u001b[0m     f1\u001b[38;5;241m.\u001b[39mappend(i_f1)\n",
      "Cell \u001b[1;32mIn[5], line 13\u001b[0m, in \u001b[0;36mfind_avg_performance\u001b[1;34m(folder_path)\u001b[0m\n\u001b[0;32m     11\u001b[0m accuracy_vector, specificity_vector, recall_vector, precision_vector, f1_vector \u001b[38;5;241m=\u001b[39m [], [], [], [], []\n\u001b[0;32m     12\u001b[0m \u001b[38;5;28;01mfor\u001b[39;00m subject_idx \u001b[38;5;129;01min\u001b[39;00m \u001b[38;5;28mrange\u001b[39m(\u001b[38;5;28mlen\u001b[39m(true)):\n\u001b[1;32m---> 13\u001b[0m     accuracy,specificity,recall,precision,f1 \u001b[38;5;241m=\u001b[39m \u001b[43mcalculate_metrics\u001b[49m\u001b[43m(\u001b[49m\u001b[43mtrue\u001b[49m\u001b[43m[\u001b[49m\u001b[43msubject_idx\u001b[49m\u001b[43m]\u001b[49m\u001b[43m,\u001b[49m\u001b[43mpredictions\u001b[49m\u001b[43m[\u001b[49m\u001b[43msubject_idx\u001b[49m\u001b[43m]\u001b[49m\u001b[43m)\u001b[49m\n\u001b[0;32m     14\u001b[0m     accuracy_vector\u001b[38;5;241m.\u001b[39mappend(accuracy)\n\u001b[0;32m     15\u001b[0m     specificity_vector\u001b[38;5;241m.\u001b[39mappend(specificity)\n",
      "Cell \u001b[1;32mIn[4], line 2\u001b[0m, in \u001b[0;36mcalculate_metrics\u001b[1;34m(true, predictions)\u001b[0m\n\u001b[0;32m      1\u001b[0m \u001b[38;5;28;01mdef\u001b[39;00m\u001b[38;5;250m \u001b[39m\u001b[38;5;21mcalculate_metrics\u001b[39m(true,predictions):\n\u001b[1;32m----> 2\u001b[0m     accuracy \u001b[38;5;241m=\u001b[39m \u001b[43maccuracy_score\u001b[49m\u001b[43m(\u001b[49m\u001b[43mtrue\u001b[49m\u001b[43m,\u001b[49m\u001b[43m \u001b[49m\u001b[43mpredictions\u001b[49m\u001b[43m)\u001b[49m \u001b[38;5;66;03m# ((TN + TP) / (TN + FN + TP + FP))\u001b[39;00m\n\u001b[0;32m      3\u001b[0m     precision \u001b[38;5;241m=\u001b[39m precision_score(true, predictions,zero_division\u001b[38;5;241m=\u001b[39mnp\u001b[38;5;241m.\u001b[39mnan) \u001b[38;5;66;03m# Positive predictive rate -> TP/(TP+FP)\u001b[39;00m\n\u001b[0;32m      4\u001b[0m     recall \u001b[38;5;241m=\u001b[39m recall_score(true, predictions,zero_division\u001b[38;5;241m=\u001b[39mnp\u001b[38;5;241m.\u001b[39mnan) \u001b[38;5;66;03m# Sensitivity -> TP/(TP+FN)\u001b[39;00m\n",
      "File \u001b[1;32mc:\\Users\\MajaE\\src\\repos\\master_ML\\.venv\\Lib\\site-packages\\sklearn\\utils\\_param_validation.py:213\u001b[0m, in \u001b[0;36mvalidate_params.<locals>.decorator.<locals>.wrapper\u001b[1;34m(*args, **kwargs)\u001b[0m\n\u001b[0;32m    207\u001b[0m \u001b[38;5;28;01mtry\u001b[39;00m:\n\u001b[0;32m    208\u001b[0m     \u001b[38;5;28;01mwith\u001b[39;00m config_context(\n\u001b[0;32m    209\u001b[0m         skip_parameter_validation\u001b[38;5;241m=\u001b[39m(\n\u001b[0;32m    210\u001b[0m             prefer_skip_nested_validation \u001b[38;5;129;01mor\u001b[39;00m global_skip_validation\n\u001b[0;32m    211\u001b[0m         )\n\u001b[0;32m    212\u001b[0m     ):\n\u001b[1;32m--> 213\u001b[0m         \u001b[38;5;28;01mreturn\u001b[39;00m \u001b[43mfunc\u001b[49m\u001b[43m(\u001b[49m\u001b[38;5;241;43m*\u001b[39;49m\u001b[43margs\u001b[49m\u001b[43m,\u001b[49m\u001b[43m \u001b[49m\u001b[38;5;241;43m*\u001b[39;49m\u001b[38;5;241;43m*\u001b[39;49m\u001b[43mkwargs\u001b[49m\u001b[43m)\u001b[49m\n\u001b[0;32m    214\u001b[0m \u001b[38;5;28;01mexcept\u001b[39;00m InvalidParameterError \u001b[38;5;28;01mas\u001b[39;00m e:\n\u001b[0;32m    215\u001b[0m     \u001b[38;5;66;03m# When the function is just a wrapper around an estimator, we allow\u001b[39;00m\n\u001b[0;32m    216\u001b[0m     \u001b[38;5;66;03m# the function to delegate validation to the estimator, but we replace\u001b[39;00m\n\u001b[0;32m    217\u001b[0m     \u001b[38;5;66;03m# the name of the estimator by the name of the function in the error\u001b[39;00m\n\u001b[0;32m    218\u001b[0m     \u001b[38;5;66;03m# message to avoid confusion.\u001b[39;00m\n\u001b[0;32m    219\u001b[0m     msg \u001b[38;5;241m=\u001b[39m re\u001b[38;5;241m.\u001b[39msub(\n\u001b[0;32m    220\u001b[0m         \u001b[38;5;124mr\u001b[39m\u001b[38;5;124m\"\u001b[39m\u001b[38;5;124mparameter of \u001b[39m\u001b[38;5;124m\\\u001b[39m\u001b[38;5;124mw+ must be\u001b[39m\u001b[38;5;124m\"\u001b[39m,\n\u001b[0;32m    221\u001b[0m         \u001b[38;5;124mf\u001b[39m\u001b[38;5;124m\"\u001b[39m\u001b[38;5;124mparameter of \u001b[39m\u001b[38;5;132;01m{\u001b[39;00mfunc\u001b[38;5;241m.\u001b[39m\u001b[38;5;18m__qualname__\u001b[39m\u001b[38;5;132;01m}\u001b[39;00m\u001b[38;5;124m must be\u001b[39m\u001b[38;5;124m\"\u001b[39m,\n\u001b[0;32m    222\u001b[0m         \u001b[38;5;28mstr\u001b[39m(e),\n\u001b[0;32m    223\u001b[0m     )\n",
      "File \u001b[1;32mc:\\Users\\MajaE\\src\\repos\\master_ML\\.venv\\Lib\\site-packages\\sklearn\\metrics\\_classification.py:231\u001b[0m, in \u001b[0;36maccuracy_score\u001b[1;34m(y_true, y_pred, normalize, sample_weight)\u001b[0m\n\u001b[0;32m    229\u001b[0m xp, _, device \u001b[38;5;241m=\u001b[39m get_namespace_and_device(y_true, y_pred, sample_weight)\n\u001b[0;32m    230\u001b[0m \u001b[38;5;66;03m# Compute accuracy for each possible representation\u001b[39;00m\n\u001b[1;32m--> 231\u001b[0m y_type, y_true, y_pred \u001b[38;5;241m=\u001b[39m \u001b[43m_check_targets\u001b[49m\u001b[43m(\u001b[49m\u001b[43my_true\u001b[49m\u001b[43m,\u001b[49m\u001b[43m \u001b[49m\u001b[43my_pred\u001b[49m\u001b[43m)\u001b[49m\n\u001b[0;32m    232\u001b[0m check_consistent_length(y_true, y_pred, sample_weight)\n\u001b[0;32m    233\u001b[0m \u001b[38;5;28;01mif\u001b[39;00m y_type\u001b[38;5;241m.\u001b[39mstartswith(\u001b[38;5;124m\"\u001b[39m\u001b[38;5;124mmultilabel\u001b[39m\u001b[38;5;124m\"\u001b[39m):\n",
      "File \u001b[1;32mc:\\Users\\MajaE\\src\\repos\\master_ML\\.venv\\Lib\\site-packages\\sklearn\\metrics\\_classification.py:103\u001b[0m, in \u001b[0;36m_check_targets\u001b[1;34m(y_true, y_pred)\u001b[0m\n\u001b[0;32m     76\u001b[0m \u001b[38;5;250m\u001b[39m\u001b[38;5;124;03m\"\"\"Check that y_true and y_pred belong to the same classification task.\u001b[39;00m\n\u001b[0;32m     77\u001b[0m \n\u001b[0;32m     78\u001b[0m \u001b[38;5;124;03mThis converts multiclass or binary types to a common shape, and raises a\u001b[39;00m\n\u001b[1;32m   (...)\u001b[0m\n\u001b[0;32m    100\u001b[0m \u001b[38;5;124;03my_pred : array or indicator matrix\u001b[39;00m\n\u001b[0;32m    101\u001b[0m \u001b[38;5;124;03m\"\"\"\u001b[39;00m\n\u001b[0;32m    102\u001b[0m xp, _ \u001b[38;5;241m=\u001b[39m get_namespace(y_true, y_pred)\n\u001b[1;32m--> 103\u001b[0m \u001b[43mcheck_consistent_length\u001b[49m\u001b[43m(\u001b[49m\u001b[43my_true\u001b[49m\u001b[43m,\u001b[49m\u001b[43m \u001b[49m\u001b[43my_pred\u001b[49m\u001b[43m)\u001b[49m\n\u001b[0;32m    104\u001b[0m type_true \u001b[38;5;241m=\u001b[39m type_of_target(y_true, input_name\u001b[38;5;241m=\u001b[39m\u001b[38;5;124m\"\u001b[39m\u001b[38;5;124my_true\u001b[39m\u001b[38;5;124m\"\u001b[39m)\n\u001b[0;32m    105\u001b[0m type_pred \u001b[38;5;241m=\u001b[39m type_of_target(y_pred, input_name\u001b[38;5;241m=\u001b[39m\u001b[38;5;124m\"\u001b[39m\u001b[38;5;124my_pred\u001b[39m\u001b[38;5;124m\"\u001b[39m)\n",
      "File \u001b[1;32mc:\\Users\\MajaE\\src\\repos\\master_ML\\.venv\\Lib\\site-packages\\sklearn\\utils\\validation.py:457\u001b[0m, in \u001b[0;36mcheck_consistent_length\u001b[1;34m(*arrays)\u001b[0m\n\u001b[0;32m    455\u001b[0m uniques \u001b[38;5;241m=\u001b[39m np\u001b[38;5;241m.\u001b[39munique(lengths)\n\u001b[0;32m    456\u001b[0m \u001b[38;5;28;01mif\u001b[39;00m \u001b[38;5;28mlen\u001b[39m(uniques) \u001b[38;5;241m>\u001b[39m \u001b[38;5;241m1\u001b[39m:\n\u001b[1;32m--> 457\u001b[0m     \u001b[38;5;28;01mraise\u001b[39;00m \u001b[38;5;167;01mValueError\u001b[39;00m(\n\u001b[0;32m    458\u001b[0m         \u001b[38;5;124m\"\u001b[39m\u001b[38;5;124mFound input variables with inconsistent numbers of samples: \u001b[39m\u001b[38;5;132;01m%r\u001b[39;00m\u001b[38;5;124m\"\u001b[39m\n\u001b[0;32m    459\u001b[0m         \u001b[38;5;241m%\u001b[39m [\u001b[38;5;28mint\u001b[39m(l) \u001b[38;5;28;01mfor\u001b[39;00m l \u001b[38;5;129;01min\u001b[39;00m lengths]\n\u001b[0;32m    460\u001b[0m     )\n",
      "\u001b[1;31mValueError\u001b[0m: Found input variables with inconsistent numbers of samples: [3359, 3289]"
     ]
    },
    {
     "data": {
      "text/plain": [
       "<Figure size 640x480 with 0 Axes>"
      ]
     },
     "metadata": {},
     "output_type": "display_data"
    }
   ],
   "source": [
    "classes = ['No meal','Meal']\n",
    "#selection_algorithms = [\"mutual_information_LDA\",\"RFE_LDA\",\"sfs_LDA\"]\n",
    "selection_algorithms = [\"mutual_information_HMM\"]\n",
    "feature_selection_curve(selection_algorithms)"
   ]
  }
 ],
 "metadata": {
  "kernelspec": {
   "display_name": ".venv",
   "language": "python",
   "name": "python3"
  },
  "language_info": {
   "codemirror_mode": {
    "name": "ipython",
    "version": 3
   },
   "file_extension": ".py",
   "mimetype": "text/x-python",
   "name": "python",
   "nbconvert_exporter": "python",
   "pygments_lexer": "ipython3",
   "version": "3.12.10"
  }
 },
 "nbformat": 4,
 "nbformat_minor": 2
}
